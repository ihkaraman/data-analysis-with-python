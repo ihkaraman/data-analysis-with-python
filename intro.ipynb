{
 "cells": [
  {
   "cell_type": "markdown",
   "metadata": {},
   "source": [
    "# python kurulumu ve genel bilgiler"
   ]
  },
  {
   "cell_type": "markdown",
   "metadata": {},
   "source": [
    "Anaconda kurulumu yapılır. 'Anaconda Prompt' ile IDLE kullanılabilir.    \n",
    "python : python'ı açar.     \n",
    "'jupyter notebook' : tarayıcıda online jupyter notebook'u açar.     \n",
    "cd : directory'i değiştirir.    \n",
    "quit() : çıkış yapar.     \n",
    "print('Yazı') : print metodu.    \n",
    "help() : Help metodu.    \n",
    "\\# : satırın tamamını yorum olarak görür.   \n",
    "''' ..... ''' : iki üç tırnak arasının tamamı yorum olarak görür.   \n",
    "IDLE ile sadece basit kod blokları yazılarak hızlıca çalıştırılabilir.   \n",
    "Daha uzun kod blokları yazmak için ise 'Notebook'lar tercih edilir. Jupyter Notebook, Notepad++ vb. gibi farklı     programlar mevcuttur. Jupyter'in online kod yazma uygulaması da bulunmaktadır.     \n",
    "JupyterLab Online Notebook    \n",
    "Yazılan kodların çalıştırılarak çıktıları görmeyi sağlayan uygulamadır.       \n",
    "Shift + Enter : Yazılan kod bloğunu çalıştırır.     \n",
    "Tab butonu başlanan kodu otomatik tamamlamak için alternatifler sunar. Ör: list bir liste nesnesi olsun. \n",
    "'list.'>Tab : listelerin metotlarını önerir.            \n",
    "Shift + Tab : Kullanılan metot hakkında bilgi penceresini açar.     \n",
    "\n"
   ]
  },
  {
   "cell_type": "markdown",
   "metadata": {},
   "source": [
    "# resources"
   ]
  },
  {
   "cell_type": "markdown",
   "metadata": {},
   "source": [
    "Exercises    \n",
    "https://github.com/mustafamuratcoskun/Data-Analiz-Notebooklar   \n",
    "http://archive.ics.uci.edu/ml/machine-learning-databases/wine-quality/    \n",
    "https://www.data.gov/    \n",
    "https://registry.opendata.aws/   \n",
    "https://www.google.com/publicdata/directory     \n",
    "https://lionbridge.ai/business-resources/open-datasets-for-machine-learning/       \n",
    "https://www.cs.toronto.edu/~delve/data/       \n",
    "http://wiki.stat.ucla.edu/socr/index.php/SOCR_Data_Dinov_020108_HeightsWeights      \n",
    "\n",
    "Articles    \n",
    "https://deepindex.org/     \n",
    "\n"
   ]
  },
  {
   "cell_type": "code",
   "execution_count": null,
   "metadata": {},
   "outputs": [],
   "source": []
  }
 ],
 "metadata": {
  "kernelspec": {
   "display_name": "Python 3",
   "language": "python",
   "name": "python3"
  },
  "language_info": {
   "codemirror_mode": {
    "name": "ipython",
    "version": 3
   },
   "file_extension": ".py",
   "mimetype": "text/x-python",
   "name": "python",
   "nbconvert_exporter": "python",
   "pygments_lexer": "ipython3",
   "version": "3.7.3"
  }
 },
 "nbformat": 4,
 "nbformat_minor": 2
}
